{
 "cells": [
  {
   "cell_type": "code",
   "execution_count": 1,
   "metadata": {},
   "outputs": [],
   "source": [
    "from nltk.corpus import reuters\n",
    "from nltk import bigrams,trigrams\n",
    "from collections import Counter, defaultdict"
   ]
  },
  {
   "cell_type": "code",
   "execution_count": 2,
   "metadata": {},
   "outputs": [],
   "source": [
    "model=defaultdict(lambda:defaultdict(lambda:0))"
   ]
  },
  {
   "cell_type": "code",
   "execution_count": 3,
   "metadata": {},
   "outputs": [],
   "source": [
    "for sentence in reuters.sents():\n",
    "    for w1,w2,w3 in trigrams(sentence,pad_right= True, pad_left=True):\n",
    "        model[(w1,w2)][w3]+=1"
   ]
  },
  {
   "cell_type": "code",
   "execution_count": 4,
   "metadata": {},
   "outputs": [],
   "source": [
    "for w1_w2 in model:\n",
    "    total_count=float(sum(model[w1_w2].values()))\n",
    "    for w3 in model[w1_w2]:\n",
    "        model[w1_w2][w3]/=total_count"
   ]
  },
  {
   "cell_type": "code",
   "execution_count": 5,
   "metadata": {},
   "outputs": [
    {
     "data": {
      "text/plain": [
       "{'European': 1.0}"
      ]
     },
     "execution_count": 5,
     "metadata": {},
     "output_type": "execute_result"
    }
   ],
   "source": [
    "dict(model['how','are'])"
   ]
  },
  {
   "cell_type": "code",
   "execution_count": 6,
   "metadata": {},
   "outputs": [
    {
     "data": {
      "text/plain": [
       "{'really': 0.05,\n",
       " 'sees': 0.05,\n",
       " 'happening': 0.1,\n",
       " 'due': 0.05,\n",
       " 'to': 0.05,\n",
       " 'important': 0.1,\n",
       " 'otherwise': 0.05,\n",
       " 'France': 0.05,\n",
       " 'produced': 0.05,\n",
       " 'now': 0.1,\n",
       " 'traditionally': 0.05,\n",
       " 'effectively': 0.05,\n",
       " 'seen': 0.05,\n",
       " 'required': 0.1,\n",
       " 'boosting': 0.1}"
      ]
     },
     "execution_count": 6,
     "metadata": {},
     "output_type": "execute_result"
    }
   ],
   "source": [
    "dict(model['what','is'])"
   ]
  },
  {
   "cell_type": "code",
   "execution_count": 7,
   "metadata": {},
   "outputs": [
    {
     "data": {
      "text/plain": [
       "{}"
      ]
     },
     "execution_count": 7,
     "metadata": {},
     "output_type": "execute_result"
    }
   ],
   "source": [
    "dict(model['can','we'])"
   ]
  },
  {
   "cell_type": "code",
   "execution_count": 8,
   "metadata": {},
   "outputs": [
    {
     "data": {
      "text/plain": [
       "{'tell': 1.0}"
      ]
     },
     "execution_count": 8,
     "metadata": {},
     "output_type": "execute_result"
    }
   ],
   "source": [
    "dict(model['can','I'])"
   ]
  },
  {
   "cell_type": "code",
   "execution_count": 9,
   "metadata": {},
   "outputs": [],
   "source": [
    "from nltk.corpus import brown"
   ]
  },
  {
   "cell_type": "code",
   "execution_count": 10,
   "metadata": {},
   "outputs": [
    {
     "data": {
      "text/plain": [
       "['adventure',\n",
       " 'belles_lettres',\n",
       " 'editorial',\n",
       " 'fiction',\n",
       " 'government',\n",
       " 'hobbies',\n",
       " 'humor',\n",
       " 'learned',\n",
       " 'lore',\n",
       " 'mystery',\n",
       " 'news',\n",
       " 'religion',\n",
       " 'reviews',\n",
       " 'romance',\n",
       " 'science_fiction']"
      ]
     },
     "execution_count": 10,
     "metadata": {},
     "output_type": "execute_result"
    }
   ],
   "source": [
    "brown.categories()"
   ]
  },
  {
   "cell_type": "code",
   "execution_count": 11,
   "metadata": {},
   "outputs": [
    {
     "data": {
      "text/plain": [
       "['adventure',\n",
       " 'belles_lettres',\n",
       " 'editorial',\n",
       " 'fiction',\n",
       " 'government',\n",
       " 'hobbies',\n",
       " 'humor',\n",
       " 'learned',\n",
       " 'lore',\n",
       " 'mystery',\n",
       " 'news',\n",
       " 'religion',\n",
       " 'reviews',\n",
       " 'romance',\n",
       " 'science_fiction']"
      ]
     },
     "execution_count": 11,
     "metadata": {},
     "output_type": "execute_result"
    }
   ],
   "source": [
    "brown.categories()\n"
   ]
  },
  {
   "cell_type": "code",
   "execution_count": 42,
   "metadata": {},
   "outputs": [],
   "source": [
    "for sentence in brown.sents(categories=['humor']):\n",
    "    for w1,w2,w3 in trigrams(sentence,pad_right= True, pad_left=True):\n",
    "        model[(w1,w2)][w3]+=1"
   ]
  },
  {
   "cell_type": "code",
   "execution_count": 43,
   "metadata": {},
   "outputs": [],
   "source": [
    "for w1_w2 in model:\n",
    "    total_count=float(sum(model[w1_w2].values()))\n",
    "    for w3 in model[w1_w2]:\n",
    "        model[w1_w2][w3]/=total_count"
   ]
  },
  {
   "cell_type": "code",
   "execution_count": 44,
   "metadata": {},
   "outputs": [
    {
     "data": {
      "text/plain": [
       "{'give': 0.0023148148148148147,\n",
       " 'do': 0.0023148148148148147,\n",
       " 'take': 0.0023148148148148147,\n",
       " 'break': 0.0023148148148148147,\n",
       " 'go': 0.0023148148148148147,\n",
       " \"''\": 0.0023148148148148147,\n",
       " 'get': 0.0023148148148148147,\n",
       " 'help': 0.1412037037037037,\n",
       " '?': 0.5069444444444445,\n",
       " 'look': 0.33564814814814814}"
      ]
     },
     "execution_count": 44,
     "metadata": {},
     "output_type": "execute_result"
    }
   ],
   "source": [
    "dict(model['will','you'])"
   ]
  },
  {
   "cell_type": "code",
   "execution_count": 47,
   "metadata": {},
   "outputs": [
    {
     "data": {
      "text/plain": [
       "{'has': 0.0003607503607503608,\n",
       " 'plans': 0.0001803751803751804,\n",
       " 'would': 0.0007215007215007216,\n",
       " 'might': 0.0001803751803751804,\n",
       " 'must': 0.0001803751803751804,\n",
       " 'lifted': 0.0001803751803751804,\n",
       " 'will': 0.0001803751803751804,\n",
       " 'should': 0.0001803751803751804,\n",
       " 'took': 0.0001803751803751804,\n",
       " 'began': 0.0001803751803751804,\n",
       " 'said': 0.08369408369408367,\n",
       " 'went': 0.0001803751803751804,\n",
       " 'saw': 0.0001803751803751804,\n",
       " 'heard': 0.090007215007215,\n",
       " 'too': 0.0001803751803751804,\n",
       " 'had': 0.16720779220779217,\n",
       " 'got': 0.0477994227994228,\n",
       " 'brought': 0.006132756132756133,\n",
       " 'thought': 0.006132756132756133,\n",
       " 'changed': 0.006132756132756133,\n",
       " 'slowed': 0.006132756132756133,\n",
       " 'realized': 0.0835137085137085,\n",
       " 'turned': 0.5001803751803752}"
      ]
     },
     "execution_count": 47,
     "metadata": {},
     "output_type": "execute_result"
    }
   ],
   "source": [
    "dict(model['then','he'])"
   ]
  },
  {
   "cell_type": "code",
   "execution_count": 49,
   "metadata": {},
   "outputs": [
    {
     "data": {
      "text/plain": [
       "[('to', 0.41840277777777773),\n",
       " (\"''\", 0.3483796296296296),\n",
       " ('broke', 0.08391203703703703),\n",
       " ('with', 0.08391203703703703),\n",
       " ('back', 0.015046296296296295),\n",
       " ('there', 0.014467592592592594),\n",
       " ('way', 0.014467592592592594),\n",
       " ('out', 0.014467592592592594),\n",
       " ('into', 0.0011574074074074076),\n",
       " ('shopping', 0.0005787037037037038),\n",
       " ('home', 0.0005787037037037038),\n",
       " ('a', 0.0005787037037037038),\n",
       " ('--', 0.0005787037037037038),\n",
       " ('down', 0.0005787037037037038),\n",
       " ('now', 0.0005787037037037038),\n",
       " ('inside', 0.0005787037037037038),\n",
       " ('outside', 0.0005787037037037038),\n",
       " ('on', 0.0005787037037037038),\n",
       " ('.', 0.0005787037037037038)]"
      ]
     },
     "execution_count": 49,
     "metadata": {},
     "output_type": "execute_result"
    }
   ],
   "source": [
    "import operator\n",
    "dic=model['you','go']\n",
    "sorted(dic.items(), key=operator.itemgetter(1),reverse=True)\n"
   ]
  },
  {
   "cell_type": "code",
   "execution_count": 38,
   "metadata": {},
   "outputs": [],
   "source": [
    "from pynput.keyboard import Key, Listener\n",
    "from fast_autocomplete import AutoComplete\n",
    "from pathlib import Path"
   ]
  },
  {
   "cell_type": "code",
   "execution_count": 39,
   "metadata": {},
   "outputs": [],
   "source": [
    "words={}\n",
    "filename=Path(r\"C:\\Users\\sc\\Documents\\input.txt\")\n",
    "f= open(filename,\"r\")\n",
    "\n",
    "f1=f.readlines()\n",
    "for x in f1:\n",
    "    words[x.rstrip()]={}\n",
    "    "
   ]
  },
  {
   "cell_type": "code",
   "execution_count": 40,
   "metadata": {},
   "outputs": [],
   "source": [
    "autocomplete=AutoComplete(words=words)\n",
    "wrd=[]\n",
    "\n",
    "wd=\"\""
   ]
  },
  {
   "cell_type": "code",
   "execution_count": 50,
   "metadata": {},
   "outputs": [
    {
     "name": "stdout",
     "output_type": "stream",
     "text": [
      "'h'\n",
      "[['he'], ['her'], ['his'], ['him'], ['hit']]\n",
      "enter correct word index :-1\n",
      "\n",
      "'o'\n",
      "[['how'], ['hot'], ['home'], ['hour'], ['hold']]\n",
      "enter correct word index :0\n",
      "['how']\n",
      "\n",
      "'t'\n",
      "[['to'], ['the'], ['too'], ['top'], ['tie']]\n",
      "enter correct word index :0\n",
      "['to']\n",
      "\n",
      "['how', 'to']\n",
      "{'use': 0.254137882471537, 'begin': 0.2500574448529412, 'smile': 0.2500574448529412, 'help': 0.06261488970588233, 'press': 0.06255744485294115, 'spread': 0.06255744485294115, 'speak': 0.03521369485294115, 'handle': 0.004136029411764704, 'shoot': 0.004021139705882351, 'find': 0.003965547912713471, 'pull': 0.0039636948529411745, 'live': 0.0039636948529411745, 'be': 0.00022977941176470574, 'do': 0.0001185958254269449, 'take': 0.00011674276565464888, 'listen': 0.00011488970588235287, 'finance': 0.00011488970588235287, 'get': 0.00011488970588235287, 'proceed': 6.115097248576848e-05, 'achieve': 5.7444852941176436e-05, 'merely': 5.7444852941176436e-05, 'translate': 5.7444852941176436e-05, 'brush': 5.7444852941176436e-05, 'advance': 5.7444852941176436e-05, 'manipulate': 5.7444852941176436e-05, 'teach': 5.7444852941176436e-05, 'blend': 5.7444852941176436e-05, 'match': 5.7444852941176436e-05, 'dispose': 5.7444852941176436e-05, 'correct': 5.7444852941176436e-05, 'regulate': 5.7444852941176436e-05, 'move': 5.7444852941176436e-05, 'relax': 5.7444852941176436e-05, 'interpret': 5.7444852941176436e-05, 'attack': 5.7444852941176436e-05, 'keep': 5.7444852941176436e-05, 'evaluate': 5.7444852941176436e-05, 'behave': 5.7444852941176436e-05, 'think': 5.7444852941176436e-05, 'exercise': 5.7444852941176436e-05, 'channel': 5.7444852941176436e-05, 'condense': 5.7444852941176436e-05, 'save': 5.7444852941176436e-05, 'fly': 5.7444852941176436e-05, 'bid': 5.7444852941176436e-05, 'lay': 5.7444852941176436e-05, 'manage': 5.7444852941176436e-05, 'raise': 5.7444852941176436e-05, 'develop': 5.7444852941176436e-05, 'read': 5.7444852941176436e-05, 'express': 5.7444852941176436e-05, 'set': 7.412239089184057e-06, 'fund': 3.7061195445920283e-06, 'face': 1.8530597722960142e-06, 'prevent': 1.8530597722960142e-06, 'make': 1.8530597722960142e-06, 'cooperate': 1.8530597722960142e-06, 'calculate': 1.8530597722960142e-06, 'allocate': 1.8530597722960142e-06, 'overhaul': 1.8530597722960142e-06, 'retaliate': 1.8530597722960142e-06, 'change': 1.8530597722960142e-06, 'implement': 1.8530597722960142e-06, 'stimulate': 1.8530597722960142e-06, 'estimate': 1.8530597722960142e-06, 'limit': 1.8530597722960142e-06, 'cut': 1.8530597722960142e-06, 'renegotiate': 1.8530597722960142e-06, 'share': 1.8530597722960142e-06, 'drill': 1.8530597722960142e-06, 'arrange': 1.8530597722960142e-06}\n"
     ]
    }
   ],
   "source": [
    "sentence=[]\n",
    "def on_release(key):\n",
    "    \n",
    "    \n",
    "    \n",
    "\n",
    "    \n",
    "    \n",
    "    if key == Key.esc:\n",
    "        # Stop listener\n",
    "        return False\n",
    "    if key == Key.space:\n",
    "       \n",
    "       print(wrd)\n",
    "       sentence.append(','.join(wrd))\n",
    "       wrd.clear()\n",
    "       \n",
    "    if key== Key.enter:\n",
    "         print()\n",
    "         \n",
    "    else :   \n",
    "        wrd.append(str(key))\n",
    "        wd=','.join(wrd)\n",
    "        wor=\"\".join(wrd)\n",
    "        print(key)\n",
    "        \n",
    "        print(autocomplete.search(word=wd))\n",
    "        i=int(input('enter correct word index :'))\n",
    "        \n",
    "        if(i!=-1):\n",
    "            print(autocomplete.search(word=wd)[i])\n",
    "            sentence.append(autocomplete.search(word=wd)[i][0])\n",
    "            wrd.clear()\n",
    "            \n",
    "     \n",
    "            \n",
    "        \n",
    "        \n",
    "# Collect events until released\n",
    "with Listener(\n",
    "        on_release=on_release) as listener:\n",
    "    listener.join()\n",
    "    print(sentence) \n",
    "    print(dict(sorted(model[sentence[0],sentence[1]].items(), key=operator.itemgetter(1),reverse=True)))"
   ]
  },
  {
   "cell_type": "code",
   "execution_count": null,
   "metadata": {},
   "outputs": [],
   "source": [
    "t\n",
    "\n",
    "\n",
    "\n"
   ]
  }
 ],
 "metadata": {
  "kernelspec": {
   "display_name": "Python 3",
   "language": "python",
   "name": "python3"
  },
  "language_info": {
   "codemirror_mode": {
    "name": "ipython",
    "version": 3
   },
   "file_extension": ".py",
   "mimetype": "text/x-python",
   "name": "python",
   "nbconvert_exporter": "python",
   "pygments_lexer": "ipython3",
   "version": "3.7.4"
  }
 },
 "nbformat": 4,
 "nbformat_minor": 2
}
